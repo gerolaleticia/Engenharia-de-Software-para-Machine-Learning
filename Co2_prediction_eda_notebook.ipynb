{
  "cells": [
    {
      "cell_type": "markdown",
      "metadata": {
        "id": "HlXfo7bhArWO"
      },
      "source": [
        "## Previsão de emissão de poluente para classificação de veículos\n",
        "\n",
        "##### O time de negócio da marca Piat deseja agrupar os veículos da empresa que tenham uma menor pegada de carbono, facilitando assim ações de marketing com este subgrupo.\n",
        "\n",
        "\n",
        "*   **User Story:** \"Como diretor de marketing, quero realizar a previsão de emissão de CO2 para saber o acumulado de emissão de poluente de cada veículo e decidir se ele pertence à classe de veículos sustentáveis da Piat\".\n",
        "\n",
        "###### O Co2 predictor é um software desenvolvido para gerar estes resultados para o time, a partir de um modelo de Machine Learning de Regressão Linear. "
      ]
    },
    {
      "cell_type": "code",
      "execution_count": null,
      "metadata": {
        "colab": {
          "base_uri": "https://localhost:8080/"
        },
        "id": "VRabltYGzYeM",
        "outputId": "82e259dd-bc0a-4bc5-ca6c-9661e8b7fe74"
      },
      "outputs": [
        {
          "output_type": "stream",
          "name": "stdout",
          "text": [
            "Looking in indexes: https://pypi.org/simple, https://us-python.pkg.dev/colab-wheels/public/simple/\n",
            "Collecting tpot\n",
            "  Downloading TPOT-0.11.7-py3-none-any.whl (87 kB)\n",
            "\u001b[K     |████████████████████████████████| 87 kB 2.1 MB/s \n",
            "\u001b[?25hRequirement already satisfied: joblib>=0.13.2 in /usr/local/lib/python3.7/dist-packages (from tpot) (1.2.0)\n",
            "Collecting xgboost>=1.1.0\n",
            "  Downloading xgboost-1.6.2-py3-none-manylinux2014_x86_64.whl (255.9 MB)\n",
            "\u001b[K     |████████████████████████████████| 255.9 MB 42 kB/s \n",
            "\u001b[?25hCollecting update-checker>=0.16\n",
            "  Downloading update_checker-0.18.0-py3-none-any.whl (7.0 kB)\n",
            "Collecting deap>=1.2\n",
            "  Downloading deap-1.3.3-cp37-cp37m-manylinux_2_5_x86_64.manylinux1_x86_64.manylinux_2_17_x86_64.manylinux2014_x86_64.whl (139 kB)\n",
            "\u001b[K     |████████████████████████████████| 139 kB 42.9 MB/s \n",
            "\u001b[?25hRequirement already satisfied: pandas>=0.24.2 in /usr/local/lib/python3.7/dist-packages (from tpot) (1.3.5)\n",
            "Requirement already satisfied: numpy>=1.16.3 in /usr/local/lib/python3.7/dist-packages (from tpot) (1.21.6)\n",
            "Collecting stopit>=1.1.1\n",
            "  Downloading stopit-1.1.2.tar.gz (18 kB)\n",
            "Requirement already satisfied: scipy>=1.3.1 in /usr/local/lib/python3.7/dist-packages (from tpot) (1.7.3)\n",
            "Requirement already satisfied: scikit-learn>=0.22.0 in /usr/local/lib/python3.7/dist-packages (from tpot) (1.0.2)\n",
            "Requirement already satisfied: tqdm>=4.36.1 in /usr/local/lib/python3.7/dist-packages (from tpot) (4.64.1)\n",
            "Requirement already satisfied: python-dateutil>=2.7.3 in /usr/local/lib/python3.7/dist-packages (from pandas>=0.24.2->tpot) (2.8.2)\n",
            "Requirement already satisfied: pytz>=2017.3 in /usr/local/lib/python3.7/dist-packages (from pandas>=0.24.2->tpot) (2022.6)\n",
            "Requirement already satisfied: six>=1.5 in /usr/local/lib/python3.7/dist-packages (from python-dateutil>=2.7.3->pandas>=0.24.2->tpot) (1.15.0)\n",
            "Requirement already satisfied: threadpoolctl>=2.0.0 in /usr/local/lib/python3.7/dist-packages (from scikit-learn>=0.22.0->tpot) (3.1.0)\n",
            "Requirement already satisfied: requests>=2.3.0 in /usr/local/lib/python3.7/dist-packages (from update-checker>=0.16->tpot) (2.23.0)\n",
            "Requirement already satisfied: idna<3,>=2.5 in /usr/local/lib/python3.7/dist-packages (from requests>=2.3.0->update-checker>=0.16->tpot) (2.10)\n",
            "Requirement already satisfied: certifi>=2017.4.17 in /usr/local/lib/python3.7/dist-packages (from requests>=2.3.0->update-checker>=0.16->tpot) (2022.9.24)\n",
            "Requirement already satisfied: chardet<4,>=3.0.2 in /usr/local/lib/python3.7/dist-packages (from requests>=2.3.0->update-checker>=0.16->tpot) (3.0.4)\n",
            "Requirement already satisfied: urllib3!=1.25.0,!=1.25.1,<1.26,>=1.21.1 in /usr/local/lib/python3.7/dist-packages (from requests>=2.3.0->update-checker>=0.16->tpot) (1.24.3)\n",
            "Building wheels for collected packages: stopit\n",
            "  Building wheel for stopit (setup.py) ... \u001b[?25l\u001b[?25hdone\n",
            "  Created wheel for stopit: filename=stopit-1.1.2-py3-none-any.whl size=11953 sha256=d91e61f2c3b8097ccb450489fb4a09dced5037cc05c8d39a4a14052ab0645fbd\n",
            "  Stored in directory: /root/.cache/pip/wheels/e2/d2/79/eaf81edb391e27c87f51b8ef901ecc85a5363dc96b8b8d71e3\n",
            "Successfully built stopit\n",
            "Installing collected packages: xgboost, update-checker, stopit, deap, tpot\n",
            "  Attempting uninstall: xgboost\n",
            "    Found existing installation: xgboost 0.90\n",
            "    Uninstalling xgboost-0.90:\n",
            "      Successfully uninstalled xgboost-0.90\n",
            "Successfully installed deap-1.3.3 stopit-1.1.2 tpot-0.11.7 update-checker-0.18.0 xgboost-1.6.2\n"
          ]
        }
      ],
      "source": [
        "!pip install tpot"
      ]
    },
    {
      "cell_type": "code",
      "execution_count": null,
      "metadata": {
        "id": "RrsCrssA_mqj"
      },
      "outputs": [],
      "source": [
        "# Pacotes\n",
        "import pandas as pd\n",
        "import numpy as np\n",
        "from sklearn.ensemble import ExtraTreesRegressor\n",
        "from sklearn.metrics import r2_score\n",
        "from sklearn.model_selection import RepeatedKFold\n",
        "from sklearn.model_selection import train_test_split\n",
        "from tpot import TPOTRegressor\n",
        "import pickle"
      ]
    },
    {
      "cell_type": "code",
      "execution_count": null,
      "metadata": {
        "id": "nZ4T8AXVDZKA"
      },
      "outputs": [],
      "source": [
        "class Loader:\n",
        "\n",
        "    def load_data(self, url: str):\n",
        "        \"\"\" Carrega o arquivo e retorna um DataFrame.\n",
        "        :url: string com  o nome/endereço do file\n",
        "        \"\"\"  \n",
        "        return pd.read_csv(url)"
      ]
    },
    {
      "cell_type": "code",
      "execution_count": null,
      "metadata": {
        "id": "LCyWIDB0_wfA"
      },
      "outputs": [],
      "source": [
        "class PreProcessor:\n",
        "\n",
        "    def pre_process_data(self, data, percentual_teste, redundant_cols: list, seed=42):\n",
        "        \"\"\" Realiza o pré processamento dos dados.\n",
        "        :data: dataframe\n",
        "        :percentual_teste: percentual dos dados definido para teste\n",
        "        :seed: semente randômica\n",
        "        :redundant_cols: lista de colunas que podem ser removidas do dataframe\n",
        "        \"\"\"\n",
        "\n",
        "        # feature selection\n",
        "        data.drop(redundant_cols, axis=1, inplace=True)\n",
        "\n",
        "        # divisão em treino e teste\n",
        "        X_train, X_test, Y_train, Y_test = self.__preparar_holdout(data,\n",
        "                                                                  percentual_teste,\n",
        "                                                                  seed)\n",
        "\n",
        "        return (X_train, X_test, Y_train, Y_test)\n",
        "\n",
        "    def __preparar_holdout(self, data, percentual_teste, seed):\n",
        "        \"\"\" Divide os dados em treino e teste usando o método holdout.\n",
        "        :data: dataframe\n",
        "        :percentual_teste: percentual dos dados definido para teste\n",
        "        :seed: semente randômica\n",
        "        \"\"\"\n",
        "        data = data.values\n",
        "        data = data.astype('float32')\n",
        "        X, Y = data[:, :-1], data[:, -1]\n",
        "        return train_test_split(X, Y, test_size=percentual_teste, random_state=seed)\n"
      ]
    },
    {
      "cell_type": "code",
      "execution_count": null,
      "metadata": {
        "id": "WEN19GTqP7xw"
      },
      "outputs": [],
      "source": [
        "class MLModel:\n",
        "\n",
        "    def select_best_model(self, cv, X_train, Y_train):\n",
        "        \"\"\" Utiliza AutoML para identificar o melhor modelo de regressão.\n",
        "        :cv: define a validação cruzada\n",
        "        :X_train: features da base de treino\n",
        "        :Y_treino: variável target da base de treino\n",
        "        \"\"\"\n",
        "\n",
        "        # define busca do melhor modelo de regressão\n",
        "        model = TPOTRegressor(generations=5, population_size=50, scoring='r2', cv=cv, verbosity=2, random_state=1, n_jobs=-1)\n",
        "        model.fit(X_train, Y_train)\n",
        "        model.export('best_model.py')\n",
        "        \n",
        "        # display resultados do AutoML\n",
        "        resultado = pd.DataFrame(model.evaluated_individuals_)\n",
        "        resultado.columns = list(map(lambda x: x[0], resultado.columns.str.split('(')))\n",
        "        return print(resultado.T)\n",
        "\n",
        "    def model_trainning(self, X_train, Y_train):\n",
        "        \"\"\" Cria pipeline de treinamento do melhor modelo encontrado na etapa de search.\n",
        "        :X_train: features da base de treino\n",
        "        :Y_treino: variável target da base de treino\n",
        "        \"\"\"\n",
        "        best_pipeline = ExtraTreesRegressor(bootstrap=False, max_features=0.25, min_samples_leaf=1, min_samples_split=5, n_estimators=100)\n",
        "        best_pipeline = best_pipeline.fit(X_train, Y_train)\n",
        "        return best_pipeline "
      ]
    },
    {
      "cell_type": "code",
      "execution_count": null,
      "metadata": {
        "id": "EZe2RFgWHDye"
      },
      "outputs": [],
      "source": [
        "class MLEvaluator:\n",
        "\n",
        "    def avaliar_r2_score(self, best_pipeline, X_test, Y_test):\n",
        "        \"\"\" Avalia o modelo fazendo uma predição com base na métria r-quadrado\n",
        "        :X_teste: features da base de teste\n",
        "        :Y_teste: variável target da base de teste\n",
        "        :modelo: modelo treinado\n",
        "        \"\"\"\n",
        "        results = best_pipeline.score(X_test, Y_test)\n",
        "        return print(results)"
      ]
    },
    {
      "cell_type": "code",
      "source": [
        "class ModelExport:\n",
        "\n",
        "    def export_best_model(self, best_pipeline):\n",
        "        \"\"\" Exporta o modelo treinado em um arquivo de formato pickle\n",
        "        :modelo: modelo treinado\n",
        "        \"\"\"\n",
        "        artifact_pkl_filename = 'model.pkl'\n",
        "\n",
        "        local_path = artifact_pkl_filename\n",
        "        with open(local_path, 'wb') as model_file:\n",
        "          return pickle.dump(best_pipeline, model_file)"
      ],
      "metadata": {
        "id": "LSUsaOuqt_J_"
      },
      "execution_count": null,
      "outputs": []
    },
    {
      "cell_type": "code",
      "execution_count": null,
      "metadata": {
        "id": "zp1JIdSz_wjW"
      },
      "outputs": [],
      "source": [
        "# Instanciação das Classes\n",
        "loader = Loader()\n",
        "pre_processor = PreProcessor()\n",
        "model = MLModel()\n",
        "performance_evaluator = MLEvaluator()\n",
        "export_model = ModelExport()"
      ]
    },
    {
      "cell_type": "code",
      "execution_count": null,
      "metadata": {
        "id": "u9R1N2HS_wlf"
      },
      "outputs": [],
      "source": [
        "# Parâmetros\n",
        "url_dados = ('https://raw.githubusercontent.com/gerolaleticia/Pyrentena-a-dataset-per-week/master/Semana%203%20%20-%20Dataset%20CO2/FuelConsumptionCo2.csv')\n",
        "redundant_cols = ['MODELYEAR','MAKE','MODEL','VEHICLECLASS','TRANSMISSION','FUELTYPE']\n",
        "percentual_teste = 0.2\n",
        "cv = RepeatedKFold(n_splits=10, n_repeats=3, random_state=1) "
      ]
    },
    {
      "cell_type": "code",
      "source": [
        "# Execução do pipeline de treinamento\n",
        "\n",
        "# carga\n",
        "data = loader.load_data(url_dados) \n",
        "\n",
        "X_train, X_test, Y_train, Y_test = pre_processor.pre_process_data(data, percentual_teste, redundant_cols) \n",
        "\n",
        "# Busca e seleção do melhor modelo com Auto ML\n",
        "best_model_report = model.select_best_model(cv, X_train, Y_train)\n",
        "\n",
        "# Treinamento do melhor modelo\n",
        "best_pipeline = model.model_trainning(X_train, Y_train)\n",
        "\n",
        "# Resultados de performance considerando r2 score\n",
        "performance_evaluator.avaliar_r2_score(best_pipeline, X_test, Y_test)\n",
        "\n",
        "# Export do modelo treinado\n",
        "loaded_pkl_model = export_model.export_best_model(best_pipeline)"
      ],
      "metadata": {
        "id": "6eHL9pWM71pp"
      },
      "execution_count": null,
      "outputs": []
    },
    {
      "cell_type": "markdown",
      "metadata": {
        "id": "iUDbjTAV0b3c"
      },
      "source": [
        "### Deploy\n",
        "\n",
        "Pipeline de implementação do modelo treinado: recebe novos dados e salva as predições em um novo file csv para consumo da equipe de negócio."
      ]
    },
    {
      "cell_type": "code",
      "execution_count": null,
      "metadata": {
        "id": "6syofxsQ1Sq1"
      },
      "outputs": [],
      "source": [
        "class PreProcessorDeploy:\n",
        "\n",
        "    def pre_process_new_data(self, data, redundant_cols: list):\n",
        "        \"\"\" Realiza o pré processamento dos dados.\n",
        "        :data: dataframe com novos dados\n",
        "        :redundant_cols: lista de colunas que podem ser removidas do dataframe\n",
        "        \"\"\"\n",
        "\n",
        "        # feature selection\n",
        "        data.drop(redundant_cols, axis=1, inplace=True)\n",
        "        del data['Unnamed: 0']\n",
        "\n",
        "        data = data.values\n",
        "        data = data.astype('float32')\n",
        "        return data"
      ]
    },
    {
      "cell_type": "code",
      "source": [
        "class LoadModel:\n",
        "\n",
        "    def load_trained_model(self, artifact_pkl_filename: str):\n",
        "        \"\"\" Baixa o modelo salvado em arquivo pickle para aplicação nos novos dados. \n",
        "        :artifact_pkl_filename: nome do arquivo pkl\n",
        "        \"\"\"\n",
        "        loaded_pkl_model = pickle.load(open(artifact_pkl_filename, 'rb'))\n",
        "        return loaded_pkl_model"
      ],
      "metadata": {
        "id": "mVJMdQB2sQjo"
      },
      "execution_count": null,
      "outputs": []
    },
    {
      "cell_type": "code",
      "execution_count": null,
      "metadata": {
        "id": "PhxCV_Qp532h"
      },
      "outputs": [],
      "source": [
        "class Output:\n",
        "\n",
        "    def create_output_dataframe(self, predicoes):\n",
        "        \"\"\" Gera o dataframe de predições e concatena com os novos dados, salvando o output final em um arquivo csv.\n",
        "        :predcicoes: dados de predição que o modelo gerou\n",
        "        \"\"\"\n",
        "\n",
        "        output = pd.DataFrame(predicoes, columns = ['CO2_predictions'])\n",
        "        output = pd.concat([new_data, output], axis=1)\n",
        "        output.to_csv('predicoes.csv')\n",
        "        return output.head()"
      ]
    },
    {
      "cell_type": "code",
      "execution_count": null,
      "metadata": {
        "id": "Kbq4_2qh7PO6"
      },
      "outputs": [],
      "source": [
        "# Parâmetros\n",
        "new_file = 'brand_new_data.csv'\n",
        "pkl_model_file = 'model.pkl'"
      ]
    },
    {
      "cell_type": "code",
      "execution_count": null,
      "metadata": {
        "id": "TiVMAz6M14Kb"
      },
      "outputs": [],
      "source": [
        "# Instanciação das Classes\n",
        "preprocess_deploy = PreProcessorDeploy()\n",
        "generate_output = Output()\n",
        "load_model = LoadModel()"
      ]
    },
    {
      "cell_type": "code",
      "execution_count": null,
      "metadata": {
        "colab": {
          "base_uri": "https://localhost:8080/",
          "height": 206
        },
        "id": "FjblP-Ox0dWj",
        "outputId": "d2786896-89b8-4b03-dfd3-b4d88e03ae08"
      },
      "outputs": [
        {
          "output_type": "execute_result",
          "data": {
            "text/plain": [
              "   ENGINESIZE  CYLINDERS  FUELCONSUMPTION_CITY  FUELCONSUMPTION_HWY  \\\n",
              "0         2.0          4                   9.9                  6.7   \n",
              "1         2.4          4                  11.2                  7.7   \n",
              "2         1.5          4                   6.0                  5.8   \n",
              "3         3.5          6                  12.7                  9.1   \n",
              "4         3.5          6                  12.1                  8.7   \n",
              "\n",
              "   FUELCONSUMPTION_COMB  FUELCONSUMPTION_COMB_MPG  CO2_predictions  \n",
              "0                   8.5                        33       196.375833  \n",
              "1                   9.6                        29       221.470833  \n",
              "2                   5.9                        48       138.004167  \n",
              "3                  11.1                        25       256.171667  \n",
              "4                  10.6                        27       245.403333  "
            ],
            "text/html": [
              "\n",
              "  <div id=\"df-4e43bdf1-e70a-4456-99d4-c94f6fdf2e25\">\n",
              "    <div class=\"colab-df-container\">\n",
              "      <div>\n",
              "<style scoped>\n",
              "    .dataframe tbody tr th:only-of-type {\n",
              "        vertical-align: middle;\n",
              "    }\n",
              "\n",
              "    .dataframe tbody tr th {\n",
              "        vertical-align: top;\n",
              "    }\n",
              "\n",
              "    .dataframe thead th {\n",
              "        text-align: right;\n",
              "    }\n",
              "</style>\n",
              "<table border=\"1\" class=\"dataframe\">\n",
              "  <thead>\n",
              "    <tr style=\"text-align: right;\">\n",
              "      <th></th>\n",
              "      <th>ENGINESIZE</th>\n",
              "      <th>CYLINDERS</th>\n",
              "      <th>FUELCONSUMPTION_CITY</th>\n",
              "      <th>FUELCONSUMPTION_HWY</th>\n",
              "      <th>FUELCONSUMPTION_COMB</th>\n",
              "      <th>FUELCONSUMPTION_COMB_MPG</th>\n",
              "      <th>CO2_predictions</th>\n",
              "    </tr>\n",
              "  </thead>\n",
              "  <tbody>\n",
              "    <tr>\n",
              "      <th>0</th>\n",
              "      <td>2.0</td>\n",
              "      <td>4</td>\n",
              "      <td>9.9</td>\n",
              "      <td>6.7</td>\n",
              "      <td>8.5</td>\n",
              "      <td>33</td>\n",
              "      <td>196.375833</td>\n",
              "    </tr>\n",
              "    <tr>\n",
              "      <th>1</th>\n",
              "      <td>2.4</td>\n",
              "      <td>4</td>\n",
              "      <td>11.2</td>\n",
              "      <td>7.7</td>\n",
              "      <td>9.6</td>\n",
              "      <td>29</td>\n",
              "      <td>221.470833</td>\n",
              "    </tr>\n",
              "    <tr>\n",
              "      <th>2</th>\n",
              "      <td>1.5</td>\n",
              "      <td>4</td>\n",
              "      <td>6.0</td>\n",
              "      <td>5.8</td>\n",
              "      <td>5.9</td>\n",
              "      <td>48</td>\n",
              "      <td>138.004167</td>\n",
              "    </tr>\n",
              "    <tr>\n",
              "      <th>3</th>\n",
              "      <td>3.5</td>\n",
              "      <td>6</td>\n",
              "      <td>12.7</td>\n",
              "      <td>9.1</td>\n",
              "      <td>11.1</td>\n",
              "      <td>25</td>\n",
              "      <td>256.171667</td>\n",
              "    </tr>\n",
              "    <tr>\n",
              "      <th>4</th>\n",
              "      <td>3.5</td>\n",
              "      <td>6</td>\n",
              "      <td>12.1</td>\n",
              "      <td>8.7</td>\n",
              "      <td>10.6</td>\n",
              "      <td>27</td>\n",
              "      <td>245.403333</td>\n",
              "    </tr>\n",
              "  </tbody>\n",
              "</table>\n",
              "</div>\n",
              "      <button class=\"colab-df-convert\" onclick=\"convertToInteractive('df-4e43bdf1-e70a-4456-99d4-c94f6fdf2e25')\"\n",
              "              title=\"Convert this dataframe to an interactive table.\"\n",
              "              style=\"display:none;\">\n",
              "        \n",
              "  <svg xmlns=\"http://www.w3.org/2000/svg\" height=\"24px\"viewBox=\"0 0 24 24\"\n",
              "       width=\"24px\">\n",
              "    <path d=\"M0 0h24v24H0V0z\" fill=\"none\"/>\n",
              "    <path d=\"M18.56 5.44l.94 2.06.94-2.06 2.06-.94-2.06-.94-.94-2.06-.94 2.06-2.06.94zm-11 1L8.5 8.5l.94-2.06 2.06-.94-2.06-.94L8.5 2.5l-.94 2.06-2.06.94zm10 10l.94 2.06.94-2.06 2.06-.94-2.06-.94-.94-2.06-.94 2.06-2.06.94z\"/><path d=\"M17.41 7.96l-1.37-1.37c-.4-.4-.92-.59-1.43-.59-.52 0-1.04.2-1.43.59L10.3 9.45l-7.72 7.72c-.78.78-.78 2.05 0 2.83L4 21.41c.39.39.9.59 1.41.59.51 0 1.02-.2 1.41-.59l7.78-7.78 2.81-2.81c.8-.78.8-2.07 0-2.86zM5.41 20L4 18.59l7.72-7.72 1.47 1.35L5.41 20z\"/>\n",
              "  </svg>\n",
              "      </button>\n",
              "      \n",
              "  <style>\n",
              "    .colab-df-container {\n",
              "      display:flex;\n",
              "      flex-wrap:wrap;\n",
              "      gap: 12px;\n",
              "    }\n",
              "\n",
              "    .colab-df-convert {\n",
              "      background-color: #E8F0FE;\n",
              "      border: none;\n",
              "      border-radius: 50%;\n",
              "      cursor: pointer;\n",
              "      display: none;\n",
              "      fill: #1967D2;\n",
              "      height: 32px;\n",
              "      padding: 0 0 0 0;\n",
              "      width: 32px;\n",
              "    }\n",
              "\n",
              "    .colab-df-convert:hover {\n",
              "      background-color: #E2EBFA;\n",
              "      box-shadow: 0px 1px 2px rgba(60, 64, 67, 0.3), 0px 1px 3px 1px rgba(60, 64, 67, 0.15);\n",
              "      fill: #174EA6;\n",
              "    }\n",
              "\n",
              "    [theme=dark] .colab-df-convert {\n",
              "      background-color: #3B4455;\n",
              "      fill: #D2E3FC;\n",
              "    }\n",
              "\n",
              "    [theme=dark] .colab-df-convert:hover {\n",
              "      background-color: #434B5C;\n",
              "      box-shadow: 0px 1px 3px 1px rgba(0, 0, 0, 0.15);\n",
              "      filter: drop-shadow(0px 1px 2px rgba(0, 0, 0, 0.3));\n",
              "      fill: #FFFFFF;\n",
              "    }\n",
              "  </style>\n",
              "\n",
              "      <script>\n",
              "        const buttonEl =\n",
              "          document.querySelector('#df-4e43bdf1-e70a-4456-99d4-c94f6fdf2e25 button.colab-df-convert');\n",
              "        buttonEl.style.display =\n",
              "          google.colab.kernel.accessAllowed ? 'block' : 'none';\n",
              "\n",
              "        async function convertToInteractive(key) {\n",
              "          const element = document.querySelector('#df-4e43bdf1-e70a-4456-99d4-c94f6fdf2e25');\n",
              "          const dataTable =\n",
              "            await google.colab.kernel.invokeFunction('convertToInteractive',\n",
              "                                                     [key], {});\n",
              "          if (!dataTable) return;\n",
              "\n",
              "          const docLinkHtml = 'Like what you see? Visit the ' +\n",
              "            '<a target=\"_blank\" href=https://colab.research.google.com/notebooks/data_table.ipynb>data table notebook</a>'\n",
              "            + ' to learn more about interactive tables.';\n",
              "          element.innerHTML = '';\n",
              "          dataTable['output_type'] = 'display_data';\n",
              "          await google.colab.output.renderOutput(dataTable, element);\n",
              "          const docLink = document.createElement('div');\n",
              "          docLink.innerHTML = docLinkHtml;\n",
              "          element.appendChild(docLink);\n",
              "        }\n",
              "      </script>\n",
              "    </div>\n",
              "  </div>\n",
              "  "
            ]
          },
          "metadata": {},
          "execution_count": 39
        }
      ],
      "source": [
        "# Execução do pipeline de produção\n",
        "\n",
        "# carga\n",
        "new_data = loader.load_data(new_file) \n",
        "\n",
        "# processamento dos novos dados\n",
        "X = preprocess_deploy.pre_process_new_data(new_data, redundant_cols)\n",
        "\n",
        "# load do modelo treinado\n",
        "loaded_pkl_model = load_model.load_trained_model(pkl_model_file)\n",
        "\n",
        "# aplicação do modelo já treinado\n",
        "predicoes = loaded_pkl_model.predict(X)\n",
        "\n",
        "# geração e export do arquivo de predições em csv\n",
        "generate_output.create_output_dataframe(predicoes)"
      ]
    }
  ],
  "metadata": {
    "colab": {
      "provenance": []
    },
    "kernelspec": {
      "display_name": "Python 3",
      "name": "python3"
    },
    "language_info": {
      "name": "python"
    }
  },
  "nbformat": 4,
  "nbformat_minor": 0
}